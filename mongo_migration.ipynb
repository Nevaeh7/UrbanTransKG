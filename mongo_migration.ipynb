{
 "cells": [
  {
   "cell_type": "code",
   "execution_count": 1,
   "metadata": {},
   "outputs": [],
   "source": [
    "import json\n",
    "import pymongo"
   ]
  },
  {
   "cell_type": "code",
   "execution_count": 3,
   "metadata": {},
   "outputs": [
    {
     "data": {
      "text/plain": [
       "['pois',\n",
       " 'metro_station',\n",
       " 'traffic_road_status_li',\n",
       " 'traffic_status_test',\n",
       " 'gmns_nodes',\n",
       " 'metro_station_v2',\n",
       " 'metro_line',\n",
       " 'pois_v3',\n",
       " 'traffic_status',\n",
       " 'adjoin',\n",
       " 'pois_v2',\n",
       " 'gmns_links',\n",
       " 'road_status_li',\n",
       " 'sz_metro_records',\n",
       " 'metro_line_v2']"
      ]
     },
     "execution_count": 3,
     "metadata": {},
     "output_type": "execute_result"
    }
   ],
   "source": [
    "client = pymongo.MongoClient(host='127.0.0.1', port=27017)\n",
    "db = client['traffic']\n",
    "db.list_collection_names()"
   ]
  }
 ],
 "metadata": {
  "kernelspec": {
   "display_name": "Python [conda env:tensor_env]",
   "language": "python",
   "name": "conda-env-tensor_env-py"
  },
  "language_info": {
   "codemirror_mode": {
    "name": "ipython",
    "version": 3
   },
   "file_extension": ".py",
   "mimetype": "text/x-python",
   "name": "python",
   "nbconvert_exporter": "python",
   "pygments_lexer": "ipython3",
   "version": "3.7.7"
  }
 },
 "nbformat": 4,
 "nbformat_minor": 4
}
